{
 "cells": [
  {
   "cell_type": "code",
   "execution_count": 82,
   "metadata": {},
   "outputs": [],
   "source": [
    "import pandas as pd\n",
    "from sklearn.preprocessing import LabelEncoder\n",
    "import numpy as np"
   ]
  },
  {
   "cell_type": "code",
   "execution_count": 83,
   "metadata": {},
   "outputs": [
    {
     "data": {
      "text/plain": [
       "customerID          0\n",
       "gender              0\n",
       "SeniorCitizen       0\n",
       "Partner             0\n",
       "Dependents          0\n",
       "tenure              0\n",
       "PhoneService        0\n",
       "MultipleLines       0\n",
       "InternetService     0\n",
       "OnlineSecurity      0\n",
       "OnlineBackup        0\n",
       "DeviceProtection    0\n",
       "TechSupport         0\n",
       "StreamingTV         0\n",
       "StreamingMovies     0\n",
       "Contract            0\n",
       "PaperlessBilling    0\n",
       "PaymentMethod       0\n",
       "MonthlyCharges      0\n",
       "TotalCharges        0\n",
       "Churn               0\n",
       "dtype: int64"
      ]
     },
     "execution_count": 83,
     "metadata": {},
     "output_type": "execute_result"
    }
   ],
   "source": [
    "data=pd.read_csv('churn.csv')\n",
    "mis_data=data.isnull().sum() # no missung\n",
    "data.head()\n",
    "data.dtypes  # a lot of categorial variables and 'TotalCharges' has numbers but it's 'O'\n",
    "data.isnull().sum()"
   ]
  },
  {
   "cell_type": "code",
   "execution_count": 84,
   "metadata": {},
   "outputs": [],
   "source": [
    "data['TotalCharges'] = pd.to_numeric(data['TotalCharges'], errors='coerce')\n",
    "data.isnull().sum()\n",
    "# As I can see I've lost some data because NaN was an object\n",
    "t = []\n",
    "for i in data['TotalCharges']:\n",
    "    try:\n",
    "        float_value = float(i)\n",
    "    except ValueError:\n",
    "        t.append(i)\n",
    "data['TotalCharges'] = data['TotalCharges'].fillna(0)\n",
    "# I'll send this data for analyse and visualize\n",
    "data.to_csv('for analyse.csv')"
   ]
  },
  {
   "cell_type": "code",
   "execution_count": 85,
   "metadata": {},
   "outputs": [],
   "source": [
    "# cleaning\n",
    "X=data.drop(['customerID', 'Churn'],axis=1)\n",
    "y = data.Churn\n",
    "# cleaning data\n",
    "for i in X.columns:\n",
    "    if X[i].dtype == 'object':\n",
    "        X = pd.get_dummies(X, columns=[i], prefix=[i])\n",
    "# target encouding \n",
    "label=LabelEncoder()\n",
    "y=label.fit_transform(y)"
   ]
  }
 ],
 "metadata": {
  "kernelspec": {
   "display_name": "Python 3",
   "language": "python",
   "name": "python3"
  },
  "language_info": {
   "codemirror_mode": {
    "name": "ipython",
    "version": 3
   },
   "file_extension": ".py",
   "mimetype": "text/x-python",
   "name": "python",
   "nbconvert_exporter": "python",
   "pygments_lexer": "ipython3",
   "version": "3.10.11"
  },
  "orig_nbformat": 4
 },
 "nbformat": 4,
 "nbformat_minor": 2
}
